{
 "cells": [
  {
   "cell_type": "code",
   "execution_count": 1,
   "metadata": {},
   "outputs": [],
   "source": [
    "import gspread"
   ]
  },
  {
   "cell_type": "code",
   "execution_count": 2,
   "metadata": {},
   "outputs": [],
   "source": [
    "from google.oauth2.service_account import Credentials\n",
    "\n",
    "scopes = [\n",
    "    'https://www.googleapis.com/auth/spreadsheets',\n",
    "    'https://www.googleapis.com/auth/drive'\n",
    "]\n",
    "\n",
    "credentials = Credentials.from_service_account_file(\n",
    "    'broadstreet-gk.json',\n",
    "    scopes=scopes\n",
    ")\n",
    "\n",
    "gc = gspread.authorize(credentials)"
   ]
  },
  {
   "cell_type": "code",
   "execution_count": 7,
   "metadata": {},
   "outputs": [],
   "source": [
    "#open the google sheet, the string could eventually be in a var, populated by user? \n",
    "#sh = gc.open('Copy of West-Prairie-RiverValley COVID-19 by County (TEAM ENTRY) 12-02-2020 to present')\n",
    "\n"
   ]
  },
  {
   "cell_type": "markdown",
   "metadata": {},
   "source": [
    "### Create a function to choose Google Sheet based on user input\n",
    "Inputs:\n",
    "State - String (or FIP? - int)\n",
    "Date - String?\n",
    "County - String (optional)\n",
    "\n",
    "\n",
    "d1 = \"2020-11-29\"\n",
    "d2 = \"2020-11-29\"\n",
    "print(d1<=d2)\n",
    "True\n",
    "\n",
    "**MAKE SURE TO SHARE ALL SHEETS WITH API EMAIL**\n"
   ]
  },
  {
   "cell_type": "code",
   "execution_count": 5,
   "metadata": {},
   "outputs": [
    {
     "name": "stdout",
     "output_type": "stream",
     "text": [
      "tocheck bigger\n"
     ]
    }
   ],
   "source": [
    "\n",
    "lbound = (2020,10,1)\n",
    "ubound = (2020,12,1)\n",
    "tocheck = (2021,1,1)\n",
    "\n",
    "if lbound < tocheck <ubound:\n",
    "    print(\"yay, in between\")\n",
    "elif tocheck > ubound:\n",
    "    print(\"tocheck bigger\")\n",
    "else:\n",
    "    print(\"tocheck smaller\")"
   ]
  },
  {
   "cell_type": "code",
   "execution_count": 17,
   "metadata": {},
   "outputs": [],
   "source": [
    "'''\n",
    "ARGS:\n",
    "state_inp: String\n",
    "date_inp: String 'yyyy-mm-dd' must be in this format in order to allow <, > ops\n",
    "'''\n",
    "import datetime\n",
    "\n",
    "def sheetChoice(region_inp, date_inp):\n",
    "    #fill curr date with lower_bound of current working sheet\n",
    "    #we know this is 1-02-2020\n",
    "    curr_date = \"2020-01-02\"\n",
    "    \n",
    "    #sheet_str = ' COVID-19 by County (TEAM ENTRY)'\n",
    "    \n",
    "    #region arrays, don't include *west, prairie, river valley* as it's included by the else statement?\n",
    "    #are there only three active spreadsheets \n",
    "    east_arr = ['Alabama', 'Florida', 'Georgia', 'North Carolina', 'South Carolina', 'Virginia', 'West Virginia', 'Kentucky', 'New Jersey', 'Tennessee', 'Connecticut', 'Delaware', 'District of Columbia', 'Maine', 'Maryland', 'Massachusetts', 'New Hampshire', 'New York', 'Rhode Island', 'Vermont']\n",
    "    mt_arr = ['Colorado', 'Minnesota', 'Montana', 'Nebraska', 'New Mexico', 'North Dakota', 'South Dakota', 'Texas', 'Wyoming', 'Illinois', 'Indiana', 'Michigan', 'Ohio', 'Pennsylvania', 'Wisconsin']\n",
    "    \n",
    "    if date_inp >= curr_date: #if true, we know data in current googlesheet\n",
    "        if state_inp in east_arr: \n",
    "                east = gc.open('Southeast-East-Northeast COVID-19 by County (TEAM ENTRY) 1-20-2021 to present')\n",
    "                worksheet = east.get_worksheet(0)\n",
    "            elif state_inp in mt_arr:\n",
    "                mtMW = gc.open('Mountains-Midwest COVID-19 by County (TEAM ENTRY) 1-02-2020 to present')\n",
    "                worksheet = mtMW.get_worksheet(0)\n",
    "            else:\n",
    "                wPRV = gc.open('West-Prairie-RiverValley COVID-19 by County (TEAM ENTRY) 1-20-2021 to present')\n",
    "                if state_inp == 'Missouri':\n",
    "                    worksheet = wPRV.get_worksheet(1)\n",
    "                else:\n",
    "                    worksheet = wPRV.get_worksheet(0)\n",
    "    else: \n",
    "        #change date_inp into tuple format\n",
    "        frmt_date_inp = date.fromisoformat(date_inp)\n",
    "        tup_date_inp = (frmt_date_inp.year, frmt_date_inp.month, frmt_date_inp.day)\n",
    "        \n",
    "        if (2020, 1, 20) < tup_date_inp < (2020,4,30):\n",
    "            if state_inp in east_arr: \n",
    "                east = gc.open('HISTORIC - Southeast-East-Northeast COVID-19 by County (TEAM ENTRY) 1-20-2020 to 4-30-2020')\n",
    "                worksheet = east.get_worksheet(0)\n",
    "            elif state_inp in mt_arr:\n",
    "                mtMW = gc.open('HISTORIC - Mountains-Midwest COVID-19 by County (TEAM ENTRY) 1-20-2020 to 4-30-2020')\n",
    "                worksheet = mtMW.get_worksheet(0)\n",
    "            else:\n",
    "                wPRV = gc.open('HISTORIC - West-Prairie-RiverValley COVID-19 by County (TEAM ENTRY) 1-20-2020 to 4-30-2020')\n",
    "                if state_inp == 'Missouri':\n",
    "                    worksheet = wPRV.get_worksheet(1)\n",
    "                else:\n",
    "                    worksheet = wPRV.get_worksheet(0)\n",
    "        elif (2020, 5, 1) < tup_date_inp < (2020,6,30):\n",
    "            if state_inp in east_arr: \n",
    "                east = gc.open('HISTORIC - Southeast-East-Northeast COVID-19 by County (TEAM ENTRY) 5-01-2020 to 6-30-2020')\n",
    "                worksheet = east.get_worksheet(0)\n",
    "            elif state_inp in mt_arr:\n",
    "                mtMW = gc.open('HISTORIC - Mountains-Midwest COVID-19 by County (TEAM ENTRY) 5-01-2020 to 6-30-2020')\n",
    "                worksheet = mtMW.get_worksheet(0)\n",
    "            else:\n",
    "                wPRV = gc.open('HISTORIC - West-Prairie-RiverValley COVID-19 by County (TEAM ENTRY) 5-01-2020 to 6-30-2020')\n",
    "                if state_inp == 'Missouri':\n",
    "                    worksheet = wPRV.get_worksheet(1)\n",
    "                else:\n",
    "                    worksheet = wPRV.get_worksheet(0)\n",
    "        elif (2020, 7, 1) < tup_date_inp < (2020,9,14):\n",
    "            if state_inp in east_arr: \n",
    "                east = gc.open('HISTORIC - Southeast-East-Northeast COVID-19 by County (TEAM ENTRY) 7-1-2020 to 9-14-2020')\n",
    "                worksheet = east.get_worksheet(0)\n",
    "            elif state_inp in mt_arr:\n",
    "                mtMW = gc.open('HISTORIC - Mountains-Midwest COVID-19 by County (TEAM ENTRY) 7-1-2020 to 9-14-2020')\n",
    "                worksheet = mtMW.get_worksheet(0)\n",
    "            else:\n",
    "                wPRV = gc.open('HISTORIC - West-Prairie-RiverValley COVID-19 by County (TEAM ENTRY) 7-1-2020 to 9-14-2020')\n",
    "                if state_inp == 'Missouri':\n",
    "                    worksheet = wPRV.get_worksheet(1)\n",
    "                else:\n",
    "                    worksheet = wPRV.get_worksheet(0)\n",
    "        elif (2020, 9, 15) < tup_date_inp < (2020,10,27):\n",
    "            if state_inp in east_arr: \n",
    "                east = gc.open('HISTORIC - Southeast-East-Northeast COVID-19 by County (TEAM ENTRY) 9-15-2020 to 10-27-2020')\n",
    "                worksheet = east.get_worksheet(0)\n",
    "            elif state_inp in mt_arr:\n",
    "                mtMW = gc.open('HISTORIC - Mountains-Midwest COVID-19 by County (TEAM ENTRY) 9-15-2020 to 10-27-2020')\n",
    "                worksheet = mtMW.get_worksheet(0)\n",
    "            else:\n",
    "                wPRV = gc.open('HISTORIC - West-Prairie-RiverValley COVID-19 by County (TEAM ENTRY) 9-15-2020 to 10-27-2020')\n",
    "                if state_inp == 'Missouri':\n",
    "                    worksheet = wPRV.get_worksheet(1)\n",
    "                else:\n",
    "                    worksheet = wPRV.get_worksheet(0)\n",
    "        elif (2020, 10, 28) < tup_date_inp < (2020,12,1):\n",
    "            if state_inp in east_arr: \n",
    "                east = gc.open('HISTORIC - Southeast-East-Northeast COVID-19 by County (TEAM ENTRY) 10-28-2020 to 12-01-2020')\n",
    "                worksheet = east.get_worksheet(0)\n",
    "            elif state_inp in mt_arr:\n",
    "                mtMW = gc.open('HISTORIC - Mountains-Midwest COVID-19 by County (TEAM ENTRY) 10-28-2020 to 12-01-2020')\n",
    "                worksheet = mtMW.get_worksheet(0)\n",
    "            else:\n",
    "                wPRV = gc.open('HISTORIC - West-Prairie-RiverValley COVID-19 by County (TEAM ENTRY) 10-28-2020 to 12-01-2020')\n",
    "                if state_inp == 'Missouri':\n",
    "                    worksheet = wPRV.get_worksheet(1)\n",
    "                else:\n",
    "                    worksheet = wPRV.get_worksheet(0)\n",
    "        elif (2020, 12, 2) < tup_date_inp < (2021,1,1):\n",
    "            if state_inp in east_arr: \n",
    "                east = gc.open('HISTORIC - Southeast-East-Northeast COVID-19 by County (TEAM ENTRY) 12-02-2020 to 1-01-2021')\n",
    "                worksheet = east.get_worksheet(0)\n",
    "            elif state_inp in mt_arr:\n",
    "                mtMW = gc.open('HISTORIC - Mountains-Midwest COVID-19 by County (TEAM ENTRY) 12-02-2020 to 1-01-2021')\n",
    "                worksheet = mtMW.get_worksheet(0)\n",
    "            else:\n",
    "                wPRV = gc.open('HISTORIC - West-Prairie-RiverValley COVID-19 by County (TEAM ENTRY) 12-02-2020 to 1-01-2021')\n",
    "                if state_inp == 'Missouri':\n",
    "                    worksheet = wPRV.get_worksheet(1)\n",
    "                else:\n",
    "                    worksheet = wPRV.get_worksheet(0)\n",
    "    return worksheet\n",
    "    "
   ]
  },
  {
   "cell_type": "code",
   "execution_count": 18,
   "metadata": {},
   "outputs": [
    {
     "data": {
      "text/plain": [
       "12"
      ]
     },
     "execution_count": 18,
     "metadata": {},
     "output_type": "execute_result"
    }
   ],
   "source": [
    "from datetime import date\n",
    "temp = date.fromisoformat('2019-12-04')\n",
    "#temp\n",
    "#temp.year\n",
    "#temp.month\n",
    "#temp.day\n",
    "tup = (temp.year, temp.month, temp.day)\n",
    "tup[1]"
   ]
  },
  {
   "cell_type": "code",
   "execution_count": 8,
   "metadata": {},
   "outputs": [],
   "source": [
    "import datetime\n",
    "\n",
    "'''\n",
    "ARGS:\n",
    "state_inp: String\n",
    "date_inp: String 'yyyy-mm-dd' must be in this format in order to allow <, > ops\n",
    "'''\n",
    "\n",
    "def countyThing(state_inp, county_inp, date_inp, worksheet):\n",
    "    countyStr = county_inp + ', ' + state_inp\n",
    "    #worksheet declared in sheetChoice function\n",
    "    countyRow = worksheet.find(countryStr).row\n",
    "    \n",
    "    formatDate = date.fromisoformat(date_inp)\n",
    "    strDate = formatDate.month + \"/\" + formatDate.day + \"/\"+ formatDate.year\n",
    "    countyCol = worksheet.find(strDate).col\n",
    "    "
   ]
  }
 ],
 "metadata": {
  "kernelspec": {
   "display_name": "Python 3",
   "language": "python",
   "name": "python3"
  },
  "language_info": {
   "codemirror_mode": {
    "name": "ipython",
    "version": 3
   },
   "file_extension": ".py",
   "mimetype": "text/x-python",
   "name": "python",
   "nbconvert_exporter": "python",
   "pygments_lexer": "ipython3",
   "version": "3.8.4"
  }
 },
 "nbformat": 4,
 "nbformat_minor": 4
}
